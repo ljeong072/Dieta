{
 "cells": [
  {
   "cell_type": "code",
   "execution_count": 1,
   "id": "4874c5cf-8b59-44d6-816b-2d6e9598f1c8",
   "metadata": {},
   "outputs": [
    {
     "name": "stdout",
     "output_type": "stream",
     "text": [
      "Collecting transformers\n",
      "  Downloading transformers-4.51.3-py3-none-any.whl.metadata (38 kB)\n",
      "Collecting datasets\n",
      "  Downloading datasets-3.6.0-py3-none-any.whl.metadata (19 kB)\n",
      "Requirement already satisfied: filelock in c:\\users\\mahri\\anaconda3\\lib\\site-packages (from transformers) (3.13.1)\n",
      "Collecting huggingface-hub<1.0,>=0.30.0 (from transformers)\n",
      "  Downloading huggingface_hub-0.31.2-py3-none-any.whl.metadata (13 kB)\n",
      "Requirement already satisfied: numpy>=1.17 in c:\\users\\mahri\\anaconda3\\lib\\site-packages (from transformers) (1.26.4)\n",
      "Requirement already satisfied: packaging>=20.0 in c:\\users\\mahri\\anaconda3\\lib\\site-packages (from transformers) (24.1)\n",
      "Requirement already satisfied: pyyaml>=5.1 in c:\\users\\mahri\\anaconda3\\lib\\site-packages (from transformers) (6.0.1)\n",
      "Requirement already satisfied: regex!=2019.12.17 in c:\\users\\mahri\\anaconda3\\lib\\site-packages (from transformers) (2024.9.11)\n",
      "Requirement already satisfied: requests in c:\\users\\mahri\\anaconda3\\lib\\site-packages (from transformers) (2.32.3)\n",
      "Collecting tokenizers<0.22,>=0.21 (from transformers)\n",
      "  Downloading tokenizers-0.21.1-cp39-abi3-win_amd64.whl.metadata (6.9 kB)\n",
      "Collecting safetensors>=0.4.3 (from transformers)\n",
      "  Downloading safetensors-0.5.3-cp38-abi3-win_amd64.whl.metadata (3.9 kB)\n",
      "Requirement already satisfied: tqdm>=4.27 in c:\\users\\mahri\\anaconda3\\lib\\site-packages (from transformers) (4.66.5)\n",
      "Requirement already satisfied: pyarrow>=15.0.0 in c:\\users\\mahri\\anaconda3\\lib\\site-packages (from datasets) (16.1.0)\n",
      "Requirement already satisfied: dill<0.3.9,>=0.3.0 in c:\\users\\mahri\\anaconda3\\lib\\site-packages (from datasets) (0.3.8)\n",
      "Requirement already satisfied: pandas in c:\\users\\mahri\\anaconda3\\lib\\site-packages (from datasets) (2.2.2)\n",
      "Collecting xxhash (from datasets)\n",
      "  Downloading xxhash-3.5.0-cp312-cp312-win_amd64.whl.metadata (13 kB)\n",
      "Collecting multiprocess<0.70.17 (from datasets)\n",
      "  Downloading multiprocess-0.70.16-py312-none-any.whl.metadata (7.2 kB)\n",
      "Requirement already satisfied: fsspec<=2025.3.0,>=2023.1.0 in c:\\users\\mahri\\anaconda3\\lib\\site-packages (from fsspec[http]<=2025.3.0,>=2023.1.0->datasets) (2024.6.1)\n",
      "Requirement already satisfied: aiohttp!=4.0.0a0,!=4.0.0a1 in c:\\users\\mahri\\anaconda3\\lib\\site-packages (from fsspec[http]<=2025.3.0,>=2023.1.0->datasets) (3.10.5)\n",
      "Requirement already satisfied: typing-extensions>=3.7.4.3 in c:\\users\\mahri\\anaconda3\\lib\\site-packages (from huggingface-hub<1.0,>=0.30.0->transformers) (4.11.0)\n",
      "Requirement already satisfied: charset-normalizer<4,>=2 in c:\\users\\mahri\\anaconda3\\lib\\site-packages (from requests->transformers) (3.3.2)\n",
      "Requirement already satisfied: idna<4,>=2.5 in c:\\users\\mahri\\anaconda3\\lib\\site-packages (from requests->transformers) (3.7)\n",
      "Requirement already satisfied: urllib3<3,>=1.21.1 in c:\\users\\mahri\\anaconda3\\lib\\site-packages (from requests->transformers) (2.2.3)\n",
      "Requirement already satisfied: certifi>=2017.4.17 in c:\\users\\mahri\\anaconda3\\lib\\site-packages (from requests->transformers) (2024.8.30)\n",
      "Requirement already satisfied: colorama in c:\\users\\mahri\\anaconda3\\lib\\site-packages (from tqdm>=4.27->transformers) (0.4.6)\n",
      "Requirement already satisfied: python-dateutil>=2.8.2 in c:\\users\\mahri\\anaconda3\\lib\\site-packages (from pandas->datasets) (2.9.0.post0)\n",
      "Requirement already satisfied: pytz>=2020.1 in c:\\users\\mahri\\anaconda3\\lib\\site-packages (from pandas->datasets) (2024.1)\n",
      "Requirement already satisfied: tzdata>=2022.7 in c:\\users\\mahri\\anaconda3\\lib\\site-packages (from pandas->datasets) (2023.3)\n",
      "Requirement already satisfied: aiohappyeyeballs>=2.3.0 in c:\\users\\mahri\\anaconda3\\lib\\site-packages (from aiohttp!=4.0.0a0,!=4.0.0a1->fsspec[http]<=2025.3.0,>=2023.1.0->datasets) (2.4.0)\n",
      "Requirement already satisfied: aiosignal>=1.1.2 in c:\\users\\mahri\\anaconda3\\lib\\site-packages (from aiohttp!=4.0.0a0,!=4.0.0a1->fsspec[http]<=2025.3.0,>=2023.1.0->datasets) (1.2.0)\n",
      "Requirement already satisfied: attrs>=17.3.0 in c:\\users\\mahri\\anaconda3\\lib\\site-packages (from aiohttp!=4.0.0a0,!=4.0.0a1->fsspec[http]<=2025.3.0,>=2023.1.0->datasets) (23.1.0)\n",
      "Requirement already satisfied: frozenlist>=1.1.1 in c:\\users\\mahri\\anaconda3\\lib\\site-packages (from aiohttp!=4.0.0a0,!=4.0.0a1->fsspec[http]<=2025.3.0,>=2023.1.0->datasets) (1.4.0)\n",
      "Requirement already satisfied: multidict<7.0,>=4.5 in c:\\users\\mahri\\anaconda3\\lib\\site-packages (from aiohttp!=4.0.0a0,!=4.0.0a1->fsspec[http]<=2025.3.0,>=2023.1.0->datasets) (6.0.4)\n",
      "Requirement already satisfied: yarl<2.0,>=1.0 in c:\\users\\mahri\\anaconda3\\lib\\site-packages (from aiohttp!=4.0.0a0,!=4.0.0a1->fsspec[http]<=2025.3.0,>=2023.1.0->datasets) (1.11.0)\n",
      "Requirement already satisfied: six>=1.5 in c:\\users\\mahri\\anaconda3\\lib\\site-packages (from python-dateutil>=2.8.2->pandas->datasets) (1.16.0)\n",
      "Downloading transformers-4.51.3-py3-none-any.whl (10.4 MB)\n",
      "   ---------------------------------------- 0.0/10.4 MB ? eta -:--:--\n",
      "   --------------------------- ------------ 7.1/10.4 MB 43.7 MB/s eta 0:00:01\n",
      "   ---------------------------------------- 10.4/10.4 MB 40.5 MB/s eta 0:00:00\n",
      "Downloading datasets-3.6.0-py3-none-any.whl (491 kB)\n",
      "Downloading huggingface_hub-0.31.2-py3-none-any.whl (484 kB)\n",
      "Downloading multiprocess-0.70.16-py312-none-any.whl (146 kB)\n",
      "Downloading safetensors-0.5.3-cp38-abi3-win_amd64.whl (308 kB)\n",
      "Downloading tokenizers-0.21.1-cp39-abi3-win_amd64.whl (2.4 MB)\n",
      "   ---------------------------------------- 0.0/2.4 MB ? eta -:--:--\n",
      "   ---------------------------------------- 2.4/2.4 MB 46.2 MB/s eta 0:00:00\n",
      "Downloading xxhash-3.5.0-cp312-cp312-win_amd64.whl (30 kB)\n",
      "Installing collected packages: xxhash, safetensors, multiprocess, huggingface-hub, tokenizers, transformers, datasets\n",
      "Successfully installed datasets-3.6.0 huggingface-hub-0.31.2 multiprocess-0.70.16 safetensors-0.5.3 tokenizers-0.21.1 transformers-4.51.3 xxhash-3.5.0\n",
      "Note: you may need to restart the kernel to use updated packages.\n"
     ]
    }
   ],
   "source": [
    "pip install transformers datasets"
   ]
  },
  {
   "cell_type": "code",
   "execution_count": 5,
   "id": "b51889f7-7bdb-43f3-ba5a-1e00ab41bd4d",
   "metadata": {},
   "outputs": [
    {
     "name": "stdout",
     "output_type": "stream",
     "text": [
      "{'Prompt': 'You are an expert dietician. Please generate a diet plan for one week, which maximizes the user’s satisfaction while also maintaining diversity. Please meet the following constraints:\\nmax per-meal sodium of 1500 mg, max daily saturated fat of 13 g, max daily calories of 1200, min daily fiber of 34 g, min 4 daily servings of vegetables,  min 2 daily servings of fruit, max daily percentage carbohydrates 55, min daily percentage carbohydrates 45,  max daily percentage protein 25, min daily percentage protein 15, max daily percentage fat 30,  min daily percentage fat 20, max daily servings of whole grains 8, min daily servings of whole grains 6,  max 4 servings of sweets per week,  max 2 servings of red meat per week, min nuts, seeds, and legumes of 4 servings per week,  max low-fat dairy of 3 servings per week, min of 2 servings per week, max 2 servings of fish per week,  and min of 1 per week. Diet preference: Lacto-vegetarian. Flavor preference: High condiment user. Cooking preference: Minimal cooking prep Cuisine preference: Ethiopian.', 'Formal specification': '## Provided Parameters:\\n- s_max = 1500 mg //Per-meal sodium max\\n- f_max = 13 g //Per-meal saturated fat max\\n- c_max = 1200 kcal //Daily calories max\\n- b_min = 34 g //Daily fiber min\\n- v_min = 4 servings //Min daily servings of vegetables\\n- r_min = 2 servings //Min daily servings of fruit\\n- a_max = 55 percentage //Max daily percentage carbohydrates\\n- a_min = 45 percentage //Min daily percentage carbohydrates\\n- p_max = 25 percentage //Max daily percentage protein\\n- p_min = 15 percentage //Min daily percentage protein\\n- f_max = 30 percentage //Max daily percentage fat\\n- f_min = 20 percentage //Min daily percentage fat\\n- w_max = 8 servings //Max daily servings of whole grains\\n- w_min = 6 servings //Min daily servings of whole grains\\n- e_max = 4 servings //Max daily servings of sweets\\n- m_max = 2 servings //Max total servings of red meat\\n- n_min = 4 servings //Min total servings of nuts\\n- d_max = 3 servings //Max total servings of low-fat dairy\\n- d_min = 2 servings //Min total servings of low-fat dairy\\n- i_max = 2 servings //Max total servings of fish\\n- i_min = 1 servings //Min total servings of fish## Fixed Parameters\\n- N = 50 # Number of initial recipes to generate - a subset will be selected by the solver\\n\\n## Imputed Sets:\\n- Recipes = {r_1, …, r_N}\\n\\n## Imputed Parameters:\\n- Protein (g) per serving: o_1, …, o_N\\n- g per serving: g_1, …, g_N\\n- Calories (kcal) per serving: c_1, …, c_N\\n- Carbohydrates (g) per serving: a_1, …, a_N\\n- Fat (g) per serving: t_1, …, t_N\\n- Sodium (mg) per serving: s_1, …., s_N\\n- Saturated fat (g) per serving: f_1, …., f_N\\n- Fiber (g) per serving: b_1, …., b_N\\n- Whole grains (fraction of serving) per serving: w_1, …., w_N\\n- Is_vegetable: v_1, …., v_N\\n- Is_red_meat: m_1, …., m_N\\n- Is_fruit: r_1, …., r_N\\n- Is_sweet: e_1, …., e_N\\n- Is_fish: i_1, …., i_N\\n- Preferences: p_1, …, p_N\\n- Diversity weight: \\\\lambda\\n- Similarity between recipes i and j: s_{i,j}\\n\\n## Variables:\\n- x_{i,d}: number of servings of recipe i eated on day d\\n\\n## Objective:\\nMaximize the sum of preferences minus sum of pairwise similarity = \\\\sum_{d=1}^D \\\\sum_{i=1}^N p_ix_{i,d} - \\\\lambda \\\\sum_{d=1}^D \\\\sum_{i=1}^N \\\\sum_{j=1}^N x_{i,d}x_{j,d}s_{i,j}\\n\\n## Constraints:\\n- Per-meal sodium constraints: x_{i,d}s_i <= s_max \\\\forall i,d\\n- Daily saturated fat constraints: \\\\sum_i x_{i,d}f_i <= f_max \\\\forall d\\n- Daily calories constraints: \\\\sum_i x_{i,d}c_i <= c_max \\\\forall d\\n- Daily fiber constraints: \\\\sum_i x_{i,d}b_i >= b_min \\\\forall d\\n- Daily vegetable constraints: \\\\sum_i x_{i,d}v_i >= v_min \\\\forall d\\n- Daily fruit constraints: \\\\sum_i x_{i,d}r_i >= r_min \\\\forall d\\n- Daily max carb percentage constraints: \\\\sum_i x_{i,d}a_i <= a_max \\\\sum_i x_{i,d}g_i \\\\forall d\\n- Daily min carb percentage constraints: \\\\sum_i x_{i,d}a_i >= a_min \\\\sum_i x_{i,d}g_i \\\\forall d\\n- Daily max protein percentage constraints: \\\\sum_i x_{i,d}o_i <= p_max \\\\sum_i x_{i,d}g_i \\\\forall d\\n- Daily min protein percentage constraints: \\\\sum_i x_{i,d}o_i >= p_min \\\\sum_i x_{i,d}g_i \\\\forall d\\n- Daily max fat percentage constraints: \\\\sum_i x_{i,d}t_i <= f_max \\\\sum_i x_{i,d}g_i \\\\forall d\\n- Daily min fat percentage constraints: \\\\sum_i x_{i,d}t_i >= f_min \\\\sum_i x_{i,d}g_i \\\\forall d\\n- Daily carb, protein, fat percentages sum to 1 constraints: \\\\sum_i x_{i,d}(o_i + a_i + t_i) == \\\\sum_i x_{i,d}g_i \\\\forall d\\n- Daily max whole grains constraints: \\\\sum_i x_{i,d}w_i <= w_max \\\\forall d\\n- Daily min whole grains constraints: \\\\sum_i x_{i,d}w_i >= w_min \\\\forall d\\n- Daily sweet constraints: \\\\sum_i x_{i,d}e_i <= e_max \\\\forall d\\n- Weekly red meat constraints: \\\\sum_{i,d} x_{i,d}m_i <= m_max\\n- Weekly max nut constraints: \\\\sum_{i,d} x_{i,d}n_i <= n_max\\n- Weekly max nut constraints: \\\\sum_{i,d} x_{i,d}n_i >= n_min\\n- Weekly max low-fat dairy constraints: \\\\sum_{i,d} x_{i,d}d_i <= d_max\\n- Weekly min low-fat dairy constraints: \\\\sum_{i,d} x_{i,d}d_i >= d_min\\n- Weekly max fish constraints: \\\\sum_{i,d} x_{i,d}i_i <= i_max\\n- Weekly min fish constraints: \\\\sum_{i,d} x_{i,d}i_i >= i_min\\n', 'Max per-meal sodium (mg)': 1500, 'Max daily saturated fat (g)': 13, 'Max daily calories (kcal)': 1200, 'Min daily fiber (g)': 34, 'Min daily servings of vegetables': 4, 'Min daily servings of fruit': 2, 'Max daily percentage carbohydrates': 55, 'Min daily percentage carbohydrates': 45, 'Max daily percentage fat': 30, 'Min daily percentage fat': 20, 'Max daily percentage protein': 25, 'Min daily percentage protein': 15, 'Max daily servings of whole grains': 8, 'Min daily servings of whole grains': 6, 'Max servings of sweets per week': 4, 'Max servings of red meat per week': 2, 'Min servings of nuts, seeds, legumes per week': 4, 'Max servings of low-fat dairy per week': 3, 'Min servings of low-fat dairy per week': 2, 'Max servings of fish per week': 2, 'Min servings of fish per week': 1, 'Dietary preference': 'Lacto-vegetarian', 'Flavor preference': 'High condiment user', 'Cooking preference': 'Minimal cooking prep', 'Cuisine preference': 'Ethiopian'}\n",
      "['Prompt', 'Formal specification', 'Max per-meal sodium (mg)', 'Max daily saturated fat (g)', 'Max daily calories (kcal)', 'Min daily fiber (g)', 'Min daily servings of vegetables', 'Min daily servings of fruit', 'Max daily percentage carbohydrates', 'Min daily percentage carbohydrates', 'Max daily percentage fat', 'Min daily percentage fat', 'Max daily percentage protein', 'Min daily percentage protein', 'Max daily servings of whole grains', 'Min daily servings of whole grains', 'Max servings of sweets per week', 'Max servings of red meat per week', 'Min servings of nuts, seeds, legumes per week', 'Max servings of low-fat dairy per week', 'Min servings of low-fat dairy per week', 'Max servings of fish per week', 'Min servings of fish per week', 'Dietary preference', 'Flavor preference', 'Cooking preference', 'Cuisine preference']\n"
     ]
    },
    {
     "data": {
      "application/vnd.jupyter.widget-view+json": {
       "model_id": "9637cb3de623405ab995cddc61ba2ee2",
       "version_major": 2,
       "version_minor": 0
      },
      "text/plain": [
       "tokenizer_config.json:   0%|          | 0.00/26.0 [00:00<?, ?B/s]"
      ]
     },
     "metadata": {},
     "output_type": "display_data"
    },
    {
     "name": "stderr",
     "output_type": "stream",
     "text": [
      "C:\\Users\\Mahri\\anaconda3\\Lib\\site-packages\\huggingface_hub\\file_download.py:143: UserWarning: `huggingface_hub` cache-system uses symlinks by default to efficiently store duplicated files but your machine does not support them in C:\\Users\\Mahri\\.cache\\huggingface\\hub\\models--gpt2. Caching files will still work but in a degraded version that might require more space on your disk. This warning can be disabled by setting the `HF_HUB_DISABLE_SYMLINKS_WARNING` environment variable. For more details, see https://huggingface.co/docs/huggingface_hub/how-to-cache#limitations.\n",
      "To support symlinks on Windows, you either need to activate Developer Mode or to run Python as an administrator. In order to activate developer mode, see this article: https://docs.microsoft.com/en-us/windows/apps/get-started/enable-your-device-for-development\n",
      "  warnings.warn(message)\n"
     ]
    },
    {
     "data": {
      "application/vnd.jupyter.widget-view+json": {
       "model_id": "c999b7404cc44728b33bc10f3f921200",
       "version_major": 2,
       "version_minor": 0
      },
      "text/plain": [
       "vocab.json:   0%|          | 0.00/1.04M [00:00<?, ?B/s]"
      ]
     },
     "metadata": {},
     "output_type": "display_data"
    },
    {
     "data": {
      "application/vnd.jupyter.widget-view+json": {
       "model_id": "40f9232f23994918bfd6f260e9e509cb",
       "version_major": 2,
       "version_minor": 0
      },
      "text/plain": [
       "merges.txt:   0%|          | 0.00/456k [00:00<?, ?B/s]"
      ]
     },
     "metadata": {},
     "output_type": "display_data"
    },
    {
     "data": {
      "application/vnd.jupyter.widget-view+json": {
       "model_id": "36b8cc11697949b488f6f19e8d568e8c",
       "version_major": 2,
       "version_minor": 0
      },
      "text/plain": [
       "tokenizer.json:   0%|          | 0.00/1.36M [00:00<?, ?B/s]"
      ]
     },
     "metadata": {},
     "output_type": "display_data"
    },
    {
     "data": {
      "application/vnd.jupyter.widget-view+json": {
       "model_id": "73a25ed9d1444c718f7d38c2c9444d40",
       "version_major": 2,
       "version_minor": 0
      },
      "text/plain": [
       "config.json:   0%|          | 0.00/665 [00:00<?, ?B/s]"
      ]
     },
     "metadata": {},
     "output_type": "display_data"
    }
   ],
   "source": [
    "from datasets import load_dataset, Dataset\n",
    "from transformers import GPT2Tokenizer\n",
    "import pandas as pd\n",
    "\n",
    "# Load dataset\n",
    "dataset = load_dataset(\"thomasat/diet-planning\", split=\"train\")\n",
    "print(dataset[0])  # Show first row\n",
    "print(dataset.column_names)  # Show all column names\n",
    "\n",
    "# Convert to DataFrame to remove duplicates\n",
    "df = pd.DataFrame(dataset)\n",
    "df = df.drop_duplicates(subset=\"Prompt\")  # Remove duplicate rows if any\n",
    "\n",
    "# Take a subset of 10,000 rows\n",
    "df = df[:10000]\n",
    "dataset = Dataset.from_pandas(df)\n",
    "\n",
    "# Split into train and validation\n",
    "dataset = dataset.train_test_split(test_size=0.2)\n",
    "train_ds = dataset[\"train\"]\n",
    "val_ds = dataset[\"test\"]\n",
    "\n",
    "# Load GPT-2 tokenizer\n",
    "tokenizer = GPT2Tokenizer.from_pretrained(\"gpt2\")\n",
    "tokenizer.pad_token = tokenizer.eos_token"
   ]
  },
  {
   "cell_type": "code",
   "execution_count": null,
   "id": "b43976f0-0dd0-4be1-aa81-771edbacb920",
   "metadata": {},
   "outputs": [],
   "source": []
  }
 ],
 "metadata": {
  "kernelspec": {
   "display_name": "Python 3 (ipykernel)",
   "language": "python",
   "name": "python3"
  },
  "language_info": {
   "codemirror_mode": {
    "name": "ipython",
    "version": 3
   },
   "file_extension": ".py",
   "mimetype": "text/x-python",
   "name": "python",
   "nbconvert_exporter": "python",
   "pygments_lexer": "ipython3",
   "version": "3.12.7"
  }
 },
 "nbformat": 4,
 "nbformat_minor": 5
}
