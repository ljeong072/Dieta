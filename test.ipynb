{
 "cells": [
  {
   "cell_type": "code",
   "execution_count": 72,
   "id": "150e86e9-0a09-4016-953f-0173eecd39b6",
   "metadata": {},
   "outputs": [
    {
     "name": "stdout",
     "output_type": "stream",
     "text": [
      "Cloning into 'TCSS456'...\n",
      "remote: Enumerating objects: 8, done.\u001b[K\n",
      "remote: Counting objects: 100% (8/8), done.\u001b[K\n",
      "remote: Compressing objects: 100% (7/7), done.\u001b[K\n",
      "remote: Total 8 (delta 0), reused 5 (delta 0), pack-reused 0 (from 0)\u001b[K\n",
      "Receiving objects: 100% (8/8), done.\n"
     ]
    }
   ],
   "source": [
    "# Clone the repo\n",
    "!git clone https://github.com/ljeong072/TCSS456"
   ]
  },
  {
   "cell_type": "code",
   "execution_count": 73,
   "id": "4c321ef5-7ec7-4cc5-b7c8-66ec811eaf00",
   "metadata": {},
   "outputs": [
    {
     "data": {
      "text/plain": [
       "['README.md', '.git']"
      ]
     },
     "execution_count": 73,
     "metadata": {},
     "output_type": "execute_result"
    }
   ],
   "source": [
    "import os\n",
    "\n",
    "# Set directory into cloned repo and open the files to check.\n",
    "os.chdir(\"TCSS456\")  \n",
    "os.listdir()"
   ]
  },
  {
   "cell_type": "code",
   "execution_count": 84,
   "id": "d2f16f0f-0f80-4195-95b1-1f38223dbb8d",
   "metadata": {},
   "outputs": [
    {
     "name": "stdout",
     "output_type": "stream",
     "text": [
      "* \u001b[32mDev\u001b[m\n",
      "  main\u001b[m\n",
      "  \u001b[31mremotes/origin/Dev\u001b[m\n",
      "  \u001b[31mremotes/origin/HEAD\u001b[m -> origin/main\n",
      "  \u001b[31mremotes/origin/mahri\u001b[m\n",
      "  \u001b[31mremotes/origin/main\u001b[m\n"
     ]
    }
   ],
   "source": [
    "# See available branches\n",
    "!git branch -a"
   ]
  },
  {
   "cell_type": "code",
   "execution_count": 86,
   "id": "ed00898e-e388-40ba-843d-eab19ff1047e",
   "metadata": {},
   "outputs": [
    {
     "name": "stdout",
     "output_type": "stream",
     "text": [
      "Already on 'Dev'\n",
      "Your branch is up to date with 'origin/Dev'.\n"
     ]
    }
   ],
   "source": [
    "# Checkout Dev branch\n",
    "!git checkout Dev"
   ]
  },
  {
   "cell_type": "code",
   "execution_count": 88,
   "id": "53a1e49c-7d9d-4d11-acf5-51cbf3f84570",
   "metadata": {},
   "outputs": [
    {
     "name": "stdout",
     "output_type": "stream",
     "text": [
      "On branch Dev\n",
      "Your branch is up to date with 'origin/Dev'.\n",
      "\n",
      "nothing to commit, working tree clean\n"
     ]
    }
   ],
   "source": [
    "# Status of branch\n",
    "!git status"
   ]
  },
  {
   "cell_type": "code",
   "execution_count": 79,
   "id": "baf1621b-c014-4b73-90dc-1f81e2e87a2d",
   "metadata": {},
   "outputs": [
    {
     "name": "stdout",
     "output_type": "stream",
     "text": [
      "On branch Dev\n",
      "Your branch is up to date with 'origin/Dev'.\n",
      "\n",
      "nothing to commit, working tree clean\n",
      "Everything up-to-date\n",
      "Everything up-to-date\n"
     ]
    }
   ],
   "source": [
    "# Push to Github (Change the message and check that this is the correct branch\n",
    "!git add .\n",
    "!git commit -m \"First commit\"\n",
    "!git push\n",
    "!git push origin Dev"
   ]
  },
  {
   "cell_type": "code",
   "execution_count": null,
   "id": "1961e533-f17d-4b40-b049-1c2d29639442",
   "metadata": {},
   "outputs": [],
   "source": []
  }
 ],
 "metadata": {
  "kernelspec": {
   "display_name": "Python [conda env:base] *",
   "language": "python",
   "name": "conda-base-py"
  },
  "language_info": {
   "codemirror_mode": {
    "name": "ipython",
    "version": 3
   },
   "file_extension": ".py",
   "mimetype": "text/x-python",
   "name": "python",
   "nbconvert_exporter": "python",
   "pygments_lexer": "ipython3",
   "version": "3.12.7"
  }
 },
 "nbformat": 4,
 "nbformat_minor": 5
}
